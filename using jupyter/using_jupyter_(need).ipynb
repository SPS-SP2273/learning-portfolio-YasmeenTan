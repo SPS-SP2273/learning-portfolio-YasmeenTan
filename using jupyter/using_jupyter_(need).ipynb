{
 "cells": [
  {
   "cell_type": "markdown",
   "id": "123456",
   "metadata": {},
   "source": [
    "<div style=\"text-align:left;font-size:2em\"><span style=\"font-weight:bolder;font-size:1.25em\">SP2273 | Learning Portfolio</span><br><br><span style=\"font-weight:bold;color:darkred\">Using Jupyter (Need)</span></div>"
   ]
  },
  {
   "cell_type": "markdown",
   "id": "a78083bc",
   "metadata": {},
   "source": [
    "## 1 Getting started with Jupyter"
   ]
  },
  {
   "cell_type": "markdown",
   "id": "6bde1a61",
   "metadata": {},
   "source": [
    "### 1.1 Its all about running cells"
   ]
  },
  {
   "cell_type": "code",
   "execution_count": null,
   "id": "e36dbf5b",
   "metadata": {},
   "outputs": [],
   "source": [
    "\n",
    "# Your code here\n"
   ]
  },
  {
   "cell_type": "markdown",
   "id": "e5ad4349",
   "metadata": {},
   "source": [
    "### 1.2 A traditional start"
   ]
  },
  {
   "cell_type": "code",
   "execution_count": 1,
   "id": "9636350d",
   "metadata": {},
   "outputs": [
    {
     "name": "stdout",
     "output_type": "stream",
     "text": [
      "Hello World!\n"
     ]
    }
   ],
   "source": [
    "print('Hello World!')\n",
    "# Your code here\n"
   ]
  },
  {
   "cell_type": "markdown",
   "id": "71e12b83",
   "metadata": {},
   "source": [
    "## 2 All about Markdown"
   ]
  },
  {
   "cell_type": "markdown",
   "id": "899d9a78",
   "metadata": {},
   "source": [
    "### 2.1 Rendering Markdown cells"
   ]
  },
  {
   "cell_type": "markdown",
   "id": "9a94a7a8",
   "metadata": {},
   "source": [
    "The ships hung in the sky in much the same way that bricks don’t.\n",
    "# Your code here\n"
   ]
  },
  {
   "cell_type": "markdown",
   "id": "88707dff",
   "metadata": {},
   "source": [
    "### 2.2 Some basic syntax"
   ]
  },
  {
   "cell_type": "markdown",
   "id": "c829d251",
   "metadata": {},
   "source": [
    "The ships *hung in the sky* in much the same way that **bricks don't.**<sup>1</sup><sub>QUOTE</sub>\n",
    "# Your code here\n"
   ]
  },
  {
   "cell_type": "markdown",
   "id": "f2ddbf04",
   "metadata": {},
   "source": [
    "### 2.3 Headings"
   ]
  },
  {
   "cell_type": "markdown",
   "id": "48b70338",
   "metadata": {},
   "source": [
    "# helloworld\n",
    "## helloworld\n",
    "### hello world\n",
    "# Your code here\n"
   ]
  },
  {
   "cell_type": "markdown",
   "id": "a85a2235",
   "metadata": {},
   "source": [
    "### 2.4 Displaying Code"
   ]
  },
  {
   "cell_type": "markdown",
   "id": "e56f6436",
   "metadata": {},
   "source": [
    "```python\n",
    "print[Hello World]\n",
    "```\n",
    "# Your code here\n"
   ]
  },
  {
   "cell_type": "markdown",
   "id": "7f0590f1",
   "metadata": {},
   "source": [
    "### 2.5 Links"
   ]
  },
  {
   "cell_type": "markdown",
   "id": "c00a6d16",
   "metadata": {},
   "source": [
    "[SP2273 Website](https://sps.nus.edu.sg/sp2273)\n",
    "# Your code here\n"
   ]
  },
  {
   "cell_type": "markdown",
   "id": "1debd097",
   "metadata": {},
   "source": [
    "### 2.6 Images"
   ]
  },
  {
   "cell_type": "markdown",
   "id": "0ad84397",
   "metadata": {},
   "source": [
    "![](https://nus.edu.sg/images/default-source/base/logo.png)\n",
    "# Your code here\n"
   ]
  },
  {
   "cell_type": "markdown",
   "id": "8faf79dc",
   "metadata": {},
   "source": [
    "### 2.7 Tables"
   ]
  },
  {
   "cell_type": "markdown",
   "id": "8bb40ff1",
   "metadata": {},
   "source": [
    "| A    |  B   |    C |\n",
    "| :--- | :--: | ---: |\n",
    "| a1   |  b1  |   c1 |\n",
    "| a2   |  b2  |   c2 |\n",
    "| a3   |  b3  |   c3 |\n",
    "# Your code here\n"
   ]
  },
  {
   "cell_type": "markdown",
   "id": "ef1fb876",
   "metadata": {},
   "source": [
    "### 2.8 Lists"
   ]
  },
  {
   "cell_type": "markdown",
   "id": "b09077db",
   "metadata": {},
   "source": [
    "1. Master Yoda\n",
    "1. Luke Skywalker\n",
    "1. Anakin Skywalker\n",
    "# Your code here\n"
   ]
  },
  {
   "cell_type": "markdown",
   "id": "8a4deb5d",
   "metadata": {},
   "source": [
    "### 2.9 Equations"
   ]
  },
  {
   "cell_type": "markdown",
   "id": "7b279fb0",
   "metadata": {},
   "source": [
    "$$\n",
    "x = \\dfrac{-b \\pm \\sqrt{b^2-4ac}}{2a}\n",
    "$$\n",
    "# Your code here\n"
   ]
  },
  {
   "cell_type": "markdown",
   "id": "2263971e",
   "metadata": {},
   "source": [
    "## Exercise 1 :  Put it in Markdown"
   ]
  },
  {
   "attachments": {
    "image.png": {
     "image/png": "[encoded data removed]"
    }
   },
   "cell_type": "markdown",
   "id": "545d2824",
   "metadata": {},
   "source": [
    "![image.png](attachment:image.png)\n",
    "*Image from the [Wikipedia page on Quadratic equations](https://en.wikipedia.org/wiki/Quadratic_equation)*\n",
    "\n",
    "**Introduction**\n",
    "\n",
    "The general form of a quadratic equation is:\n",
    "\n",
    "$$ax^2+bx+c$$\n",
    "\n",
    "**Solutions** Provided a\\=0, we can use an algebraic method called [completing the square](https://en.wikipedia.org/wiki/Completing_the_square) to show that a quadratic equation has the following equation:\n",
    "\n",
    "$$\n",
    "x = \\dfrac{-b \\pm \\sqrt{b^2-4ac}}{2a}\n",
    "$$\n",
    "\n",
    "**Discriminant**\n",
    "\n",
    "The quantity $\\Delta=b^2-4ac$ is called the **discriminant** of the equation and decides the nature of its solutions.The table below shows the various possibilities.\n",
    "\n",
    "| Discriminant |           Roots                   |\n",
    "|:-------------|:----------------------------------|\n",
    "|$$\\Delta=b^2-4ac=0$$ |A single solution of $-b/2a$       |\n",
    "|$\\Delta=b^2-4ac>0$ |Two distinct solutions             |\n",
    "|$\\Delta=b^2-4ac<0$ |No real solutions, both are complex|"
   ]
  },
  {
   "cell_type": "markdown",
   "id": "7c7a3c4d",
   "metadata": {},
   "source": [
    "## Exercise 2 :  In your own words"
   ]
  },
  {
   "cell_type": "markdown",
   "id": "51df2505",
   "metadata": {},
   "source": [
    "1. What is a **repository**?\n",
    "   1. A place where all of one's documents are stored.\n",
    "1. Git keeps tracks of changes in the files of our repository.\n",
    "1. What is a **commit**?\n",
    "   1. A file that has a history of your activity.\n",
    "1. What is a **push**?\n",
    "   1. To move the commit from the Github to the online server.\n",
    "1. What is the difference between GitHub and GitHub Desktop?\n",
    "   1. Github Desktop is a copy of our repository from Github on our local device.\n",
    "1. Is there an ‘opposite’ to a push?\n",
    "   1. Revert commit to undo the push. Fetch function to get commits made on a remote repository.\n",
    "\n",
    "\n",
    "# Your solution here\n",
    "\n",
    "\n"
   ]
  }
 ],
 "metadata": {
  "kernelspec": {
   "display_name": "Python 3 (ipykernel)",
   "language": "python",
   "name": "python3"
  },
  "language_info": {
   "codemirror_mode": {
    "name": "ipython",
    "version": 3
   },
   "file_extension": ".py",
   "mimetype": "text/x-python",
   "name": "python",
   "nbconvert_exporter": "python",
   "pygments_lexer": "ipython3",
   "version": "3.9.2"
  },
  "toc": {
   "base_numbering": 1,
   "nav_menu": {},
   "number_sections": true,
   "sideBar": true,
   "skip_h1_title": false,
   "title_cell": "Table of Contents",
   "title_sidebar": "Contents",
   "toc_cell": false,
   "toc_position": {},
   "toc_section_display": true,
   "toc_window_display": false
  },
  "vscode": {
   "interpreter": {
    "hash": "31f2aee4e71d21fbe5cf8b01ff0e069b9275f58929596ceb00d14d90e3e16cd6"
   }
  }
 },
 "nbformat": 4,
 "nbformat_minor": 5
}
