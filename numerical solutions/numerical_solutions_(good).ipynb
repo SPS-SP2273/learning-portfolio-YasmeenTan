{
 "cells": [
  {
   "cell_type": "markdown",
   "id": "123456",
   "metadata": {},
   "source": [
    "<div style=\"text-align:left;font-size:2em\"><span style=\"font-weight:bolder;font-size:1.25em\">SP2273 | Learning Portfolio</span><br><br><span style=\"font-weight:bold;color:darkred\">Numerical Solutions (Good)</span></div>"
   ]
  },
  {
   "cell_type": "markdown",
   "id": "0e32f947",
   "metadata": {},
   "source": [
    "## 1 Differential Equations and Euler"
   ]
  },
  {
   "cell_type": "markdown",
   "id": "ba5609a0",
   "metadata": {},
   "source": [
    "### 1.2 What do we mean by changes?"
   ]
  },
  {
   "cell_type": "markdown",
   "id": "276989c4",
   "metadata": {},
   "source": [
    "1. change in space\n",
    "1. change in time\n",
    "1. change in conc"
   ]
  },
  {
   "cell_type": "markdown",
   "id": "6251ce39",
   "metadata": {},
   "source": [
    "### 1.3 Calculus: Meaning and Notation"
   ]
  },
  {
   "cell_type": "markdown",
   "id": "8662aeba",
   "metadata": {},
   "source": [
    "### 1.4 Calculus: Getting a feel for \\(\\dfrac{dN}{dt}\\)"
   ]
  },
  {
   "cell_type": "markdown",
   "id": "bb88800c",
   "metadata": {},
   "source": [
    "### 1.5 Solving Differential Equations"
   ]
  },
  {
   "cell_type": "markdown",
   "id": "693c95e0",
   "metadata": {},
   "source": [
    "### 1.6 The Euler Method"
   ]
  },
  {
   "cell_type": "markdown",
   "id": "0ccaff9c",
   "metadata": {},
   "source": [
    "### 1.7 Using Euler for the logistic equation"
   ]
  },
  {
   "cell_type": "code",
   "execution_count": 1,
   "id": "5657b80c",
   "metadata": {},
   "outputs": [
    {
     "ename": "NameError",
     "evalue": "name 'plt' is not defined",
     "output_type": "error",
     "traceback": [
      "\u001b[0;31m---------------------------------------------------------------------------\u001b[0m",
      "\u001b[0;31mNameError\u001b[0m                                 Traceback (most recent call last)",
      "Cell \u001b[0;32mIn[1], line 47\u001b[0m\n\u001b[1;32m     40\u001b[0m             quit()\n\u001b[1;32m     42\u001b[0m exact_data \u001b[38;5;241m=\u001b[39m logistic(time\u001b[38;5;241m=\u001b[39mnp\u001b[38;5;241m.\u001b[39marray(data[\u001b[38;5;124m'\u001b[39m\u001b[38;5;124mtime\u001b[39m\u001b[38;5;124m'\u001b[39m]),\n\u001b[1;32m     43\u001b[0m                       N0\u001b[38;5;241m=\u001b[39mN0,\n\u001b[1;32m     44\u001b[0m                       carrying_capacity\u001b[38;5;241m=\u001b[39mK,\n\u001b[1;32m     45\u001b[0m                       rate\u001b[38;5;241m=\u001b[39mrate)\n\u001b[0;32m---> 47\u001b[0m \u001b[43mplt\u001b[49m\u001b[38;5;241m.\u001b[39mplot(data[\u001b[38;5;124m'\u001b[39m\u001b[38;5;124mtime\u001b[39m\u001b[38;5;124m'\u001b[39m], data[\u001b[38;5;124m'\u001b[39m\u001b[38;5;124mN\u001b[39m\u001b[38;5;124m'\u001b[39m], \u001b[38;5;124m'\u001b[39m\u001b[38;5;124m.\u001b[39m\u001b[38;5;124m'\u001b[39m, label\u001b[38;5;241m=\u001b[39m\u001b[38;5;124m'\u001b[39m\u001b[38;5;124mNumerical\u001b[39m\u001b[38;5;124m'\u001b[39m)\n\u001b[1;32m     48\u001b[0m plt\u001b[38;5;241m.\u001b[39mplot(data[\u001b[38;5;124m'\u001b[39m\u001b[38;5;124mtime\u001b[39m\u001b[38;5;124m'\u001b[39m], exact_data,\n\u001b[1;32m     49\u001b[0m          label\u001b[38;5;241m=\u001b[39m\u001b[38;5;124m'\u001b[39m\u001b[38;5;124mExact\u001b[39m\u001b[38;5;124m'\u001b[39m, zorder\u001b[38;5;241m=\u001b[39m\u001b[38;5;241m1\u001b[39m)  \u001b[38;5;66;03m# zorder pushes the plot back\u001b[39;00m\n\u001b[1;32m     50\u001b[0m plt\u001b[38;5;241m.\u001b[39mlegend(loc\u001b[38;5;241m=\u001b[39m\u001b[38;5;124m'\u001b[39m\u001b[38;5;124mlower right\u001b[39m\u001b[38;5;124m'\u001b[39m)\n",
      "\u001b[0;31mNameError\u001b[0m: name 'plt' is not defined"
     ]
    }
   ],
   "source": [
    "def logistic(time, N0, carrying_capacity, rate):\n",
    "    '''\n",
    "    This outputs the exact solution to \n",
    "    the logistic differential equation.\n",
    "    '''\n",
    "    C = 1/N0-1/carrying_capacity\n",
    "    output = (1+C*carrying_capacity*np.exp(-rate*time))\n",
    "    output = carrying_capacity/output\n",
    "    return output\n",
    "\n",
    "\n",
    "N_stop_difference = 1E-2                # Stop running if the change in population\n",
    "                                        # between consecutive runs is less than this value\n",
    "dt = .1\n",
    "N0, K, rate = 10, 100, 3\n",
    "data = {'time': [], 'N': []}\n",
    "time, N = 0, N0\n",
    "\n",
    "while True:\n",
    "    data['time'].append(time)\n",
    "    data['N'].append(N)\n",
    "\n",
    "    dN = rate*N*(1-N/K)*dt\n",
    "    N += dN\n",
    "    time += dt\n",
    "\n",
    "    # Should we stop the loop?\n",
    "    try:\n",
    "        # The lists start empty so the following will raise an\n",
    "        # error the first two rounds. I am using try to get around it.\n",
    "        if np.abs(data['N'][-1]-data['N'][-2]) <= N_stop_difference:\n",
    "            break\n",
    "    except IndexError:\n",
    "        # I am being paranoid and checking if there is an error even\n",
    "        # when the list has more than two elements\n",
    "        if len(data['N']) < 2:\n",
    "            pass\n",
    "        else:\n",
    "            print('Trouble')\n",
    "            quit()\n",
    "\n",
    "exact_data = logistic(time=np.array(data['time']),\n",
    "                      N0=N0,\n",
    "                      carrying_capacity=K,\n",
    "                      rate=rate)\n",
    "\n",
    "plt.plot(data['time'], data['N'], '.', label='Numerical')\n",
    "plt.plot(data['time'], exact_data,\n",
    "         label='Exact', zorder=1)  # zorder pushes the plot back\n",
    "plt.legend(loc='lower right')\n",
    "plt.ylabel('Population($N$)')\n",
    "plt.xlabel('Time')\n",
    "plt.hlines(K, 0, data['time'][-1],\n",
    "           colors='grey', ls='dashed', zorder=1)"
   ]
  },
  {
   "cell_type": "markdown",
   "id": "bdcf1dcc",
   "metadata": {},
   "source": [
    "### 1.8 Some things to note about the code"
   ]
  },
  {
   "cell_type": "code",
   "execution_count": null,
   "id": "c85d03d6",
   "metadata": {},
   "outputs": [],
   "source": [
    "\n",
    "# Your code here\n"
   ]
  },
  {
   "cell_type": "markdown",
   "id": "9cf77d82",
   "metadata": {},
   "source": [
    "## 2 Coupled Differential Equations: Predator-Prey Model"
   ]
  },
  {
   "cell_type": "markdown",
   "id": "f5a7b746",
   "metadata": {},
   "source": [
    "### 2.1 The equations"
   ]
  },
  {
   "cell_type": "code",
   "execution_count": null,
   "id": "66f0b886",
   "metadata": {},
   "outputs": [],
   "source": [
    "\n",
    "# Your code here\n"
   ]
  },
  {
   "cell_type": "markdown",
   "id": "b8b4ac3b",
   "metadata": {},
   "source": [
    "### 2.2 Example code"
   ]
  },
  {
   "cell_type": "code",
   "execution_count": null,
   "id": "3411c78c",
   "metadata": {},
   "outputs": [],
   "source": [
    "\n",
    "# Your code here\n"
   ]
  },
  {
   "cell_type": "markdown",
   "id": "b30c9259",
   "metadata": {},
   "source": [
    "### 2.3 Some things to note about the code"
   ]
  },
  {
   "cell_type": "code",
   "execution_count": null,
   "id": "56eeda6a",
   "metadata": {},
   "outputs": [],
   "source": [
    "\n",
    "# Your code here\n"
   ]
  },
  {
   "cell_type": "markdown",
   "id": "6a7c6646",
   "metadata": {},
   "source": [
    "## 3 Hello SciPy"
   ]
  },
  {
   "cell_type": "markdown",
   "id": "0d1d0681",
   "metadata": {},
   "source": [
    "### 3.1 SciPy odeint()"
   ]
  },
  {
   "cell_type": "code",
   "execution_count": null,
   "id": "ab8e0391",
   "metadata": {},
   "outputs": [],
   "source": [
    "\n",
    "# Your code here\n"
   ]
  },
  {
   "cell_type": "markdown",
   "id": "4f831d1c",
   "metadata": {},
   "source": [
    "### 3.2 Radioactivity"
   ]
  },
  {
   "cell_type": "code",
   "execution_count": null,
   "id": "3e9df754",
   "metadata": {},
   "outputs": [],
   "source": [
    "\n",
    "# Your code here\n"
   ]
  },
  {
   "cell_type": "markdown",
   "id": "99896b84",
   "metadata": {},
   "source": [
    "### 3.3 Logistic Equation"
   ]
  },
  {
   "cell_type": "code",
   "execution_count": null,
   "id": "d9bfa1b0",
   "metadata": {},
   "outputs": [],
   "source": [
    "\n",
    "# Your code here\n"
   ]
  },
  {
   "cell_type": "markdown",
   "id": "c2763a3f",
   "metadata": {},
   "source": [
    "### 3.4 Predator-Prey"
   ]
  },
  {
   "cell_type": "code",
   "execution_count": null,
   "id": "3cdb9943",
   "metadata": {},
   "outputs": [],
   "source": [
    "\n",
    "# Your code here\n"
   ]
  },
  {
   "cell_type": "markdown",
   "id": "2b27a952",
   "metadata": {},
   "source": [
    "## Exercise 1 :  The Lorentz Attaractor"
   ]
  },
  {
   "cell_type": "code",
   "execution_count": null,
   "id": "0314d7bd",
   "metadata": {},
   "outputs": [],
   "source": [
    "\n",
    "\n",
    "\n",
    "# Your solution here\n",
    "\n",
    "\n"
   ]
  }
 ],
 "metadata": {
  "kernelspec": {
   "display_name": "Python 3 (ipykernel)",
   "language": "python",
   "name": "python3"
  },
  "language_info": {
   "codemirror_mode": {
    "name": "ipython",
    "version": 3
   },
   "file_extension": ".py",
   "mimetype": "text/x-python",
   "name": "python",
   "nbconvert_exporter": "python",
   "pygments_lexer": "ipython3",
   "version": "3.9.2"
  },
  "nbTranslate": {
   "displayLangs": [
    "*"
   ],
   "hotkey": "alt-t",
   "langInMainMenu": true,
   "sourceLang": "en",
   "targetLang": "fr",
   "useGoogleTranslate": true
  },
  "toc": {
   "base_numbering": 1,
   "nav_menu": {},
   "number_sections": true,
   "sideBar": true,
   "skip_h1_title": false,
   "title_cell": "Table of Contents",
   "title_sidebar": "Contents",
   "toc_cell": false,
   "toc_position": {},
   "toc_section_display": true,
   "toc_window_display": false
  },
  "varInspector": {
   "cols": {
    "lenName": 16,
    "lenType": 16,
    "lenVar": 40
   },
   "kernels_config": {
    "python": {
     "delete_cmd_postfix": "",
     "delete_cmd_prefix": "del ",
     "library": "var_list.py",
     "varRefreshCmd": "print(var_dic_list())"
    },
    "r": {
     "delete_cmd_postfix": ") ",
     "delete_cmd_prefix": "rm(",
     "library": "var_list.r",
     "varRefreshCmd": "cat(var_dic_list()) "
    }
   },
   "types_to_exclude": [
    "module",
    "function",
    "builtin_function_or_method",
    "instance",
    "_Feature"
   ],
   "window_display": false
  },
  "vscode": {
   "interpreter": {
    "hash": "31f2aee4e71d21fbe5cf8b01ff0e069b9275f58929596ceb00d14d90e3e16cd6"
   }
  }
 },
 "nbformat": 4,
 "nbformat_minor": 5
}
