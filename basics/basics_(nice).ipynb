{
 "cells": [
  {
   "cell_type": "markdown",
   "id": "123456",
   "metadata": {},
   "source": [
    "<div style=\"text-align:left;font-size:2em\"><span style=\"font-weight:bolder;font-size:1.25em\">SP2273 | Learning Portfolio</span><br><br><span style=\"font-weight:bold;color:darkred\">Basics (Nice)</span></div>"
   ]
  },
  {
   "cell_type": "markdown",
   "id": "92f33a6b",
   "metadata": {},
   "source": [
    "## 1 Beyond Python Basics"
   ]
  },
  {
   "cell_type": "markdown",
   "id": "7745f1d0",
   "metadata": {},
   "source": [
    "### 1.1 If if is not enough"
   ]
  },
  {
   "cell_type": "code",
   "execution_count": 3,
   "id": "e083ea5f",
   "metadata": {},
   "outputs": [
    {
     "ename": "SyntaxError",
     "evalue": "invalid syntax (3157136051.py, line 3)",
     "output_type": "error",
     "traceback": [
      "\u001b[0;36m  Cell \u001b[0;32mIn[3], line 3\u001b[0;36m\u001b[0m\n\u001b[0;31m    match name:\u001b[0m\n\u001b[0m          ^\u001b[0m\n\u001b[0;31mSyntaxError\u001b[0m\u001b[0;31m:\u001b[0m invalid syntax\n"
     ]
    }
   ],
   "source": [
    "name='Batman'\n",
    "\n",
    "match name:\n",
    "    case 'Batman':\n",
    "        print('Hello Hero|Batman')\n",
    "    case 'Robin':\n",
    "        print('Hello Sidekick|Robin!')\n",
    "    case_:\n",
    "        print('Hello World')\n",
    "        \n",
    "#unable to work cause i'm using python 3.9.2, just use else if"
   ]
  },
  {
   "cell_type": "markdown",
   "id": "42a4229a",
   "metadata": {},
   "source": [
    "### 1.2 Ternary operators or Conditional Statements"
   ]
  },
  {
   "cell_type": "code",
   "execution_count": 9,
   "id": "36f2350d",
   "metadata": {},
   "outputs": [
    {
     "data": {
      "text/plain": [
       "'Hello!'"
      ]
     },
     "execution_count": 9,
     "metadata": {},
     "output_type": "execute_result"
    }
   ],
   "source": [
    "nationality = 'French'\n",
    "if nationality == 'French':\n",
    "    greeting = \"Bonjour!\"\n",
    "else:\n",
    "    greeting = \"Hello!\"\n",
    "    \n",
    "#same as:\n",
    "greeting = \"Bonjour!\" if nationality == 'French' else \"Hello!\"\n",
    "\n",
    "#same as:\n",
    "(\"Bonjour!\", \"Hello!\")[nationality == 'French']"
   ]
  },
  {
   "cell_type": "code",
   "execution_count": 11,
   "id": "9352adea",
   "metadata": {},
   "outputs": [
    {
     "name": "stdout",
     "output_type": "stream",
     "text": [
      "No message!\n"
     ]
    }
   ],
   "source": [
    "#another ternary operator:\n",
    "text = None\n",
    "message = text or \"No message!\"\n",
    "print (message)"
   ]
  },
  {
   "cell_type": "markdown",
   "id": "5fde8522",
   "metadata": {},
   "source": [
    "### 1.3 Swapping values"
   ]
  },
  {
   "cell_type": "code",
   "execution_count": 12,
   "id": "8985c504",
   "metadata": {},
   "outputs": [
    {
     "name": "stdout",
     "output_type": "stream",
     "text": [
      "2 1\n"
     ]
    }
   ],
   "source": [
    "a,b = 1,2\n",
    "a,b = b,a\n",
    "print(a,b)   #only works for python"
   ]
  },
  {
   "cell_type": "markdown",
   "id": "802aa15e",
   "metadata": {},
   "source": [
    "### 1.4 Never compare floats directly"
   ]
  },
  {
   "cell_type": "code",
   "execution_count": 15,
   "id": "030d3cd0",
   "metadata": {},
   "outputs": [
    {
     "data": {
      "text/plain": [
       "False"
      ]
     },
     "execution_count": 15,
     "metadata": {},
     "output_type": "execute_result"
    }
   ],
   "source": [
    "a = 0.1\n",
    "a3 = 0.3\n",
    "a*3==a3"
   ]
  },
  {
   "cell_type": "code",
   "execution_count": 18,
   "id": "f075b264",
   "metadata": {},
   "outputs": [
    {
     "name": "stdout",
     "output_type": "stream",
     "text": [
      "0.29999999999999999\n",
      "True\n"
     ]
    }
   ],
   "source": [
    "print(f\"{0.3:1.17f}\")\n",
    "eps = 1E-10\n",
    "\n",
    "print(abs(a*3-a3)<eps)"
   ]
  },
  {
   "cell_type": "code",
   "execution_count": 19,
   "id": "5b90a055",
   "metadata": {},
   "outputs": [
    {
     "name": "stdout",
     "output_type": "stream",
     "text": [
      "True\n"
     ]
    }
   ],
   "source": [
    "print(np.isclose(a*3,a3))"
   ]
  },
  {
   "cell_type": "markdown",
   "id": "e2399b86",
   "metadata": {},
   "source": [
    "### 1.5 Operator precedance"
   ]
  },
  {
   "cell_type": "code",
   "execution_count": null,
   "id": "81f644d5",
   "metadata": {},
   "outputs": [],
   "source": [
    "#a bunch of operators"
   ]
  },
  {
   "cell_type": "markdown",
   "id": "47943bb1",
   "metadata": {},
   "source": [
    "## 2 Variables in Python"
   ]
  },
  {
   "cell_type": "markdown",
   "id": "cbdaaa37",
   "metadata": {},
   "source": [
    "### 2.1 Variables in Python are just names"
   ]
  },
  {
   "cell_type": "code",
   "execution_count": 20,
   "id": "d84a278e",
   "metadata": {},
   "outputs": [
    {
     "name": "stdout",
     "output_type": "stream",
     "text": [
      "x: [1, 2, 3], y: [1, 2, 3]\n"
     ]
    }
   ],
   "source": [
    "x = [1, 2]\n",
    "y = x\n",
    "y.append(3)\n",
    "\n",
    "print(f\"x: {x}, y: {y}\")"
   ]
  },
  {
   "cell_type": "code",
   "execution_count": 21,
   "id": "0866b993",
   "metadata": {
    "scrolled": true
   },
   "outputs": [
    {
     "name": "stdout",
     "output_type": "stream",
     "text": [
      "x: 134606220581168, y: 134606220581168, 1: 134606220581168\n"
     ]
    }
   ],
   "source": [
    "x = 1\n",
    "y = 1\n",
    "\n",
    "print(f\"x: {id(x)}, y: {id(y)}, 1: {id(1)}\")    \n",
    "#after the code is run, x and y are bound to 1 - so x and y are referred to as names that are bound to 1"
   ]
  },
  {
   "cell_type": "code",
   "execution_count": 22,
   "id": "f191dfa8",
   "metadata": {},
   "outputs": [
    {
     "name": "stdout",
     "output_type": "stream",
     "text": [
      "x: 134606220581168, y: 134606220581200\n"
     ]
    }
   ],
   "source": [
    "x = 1\n",
    "y = x + 1\n",
    "\n",
    "print(f\"x: {id(x)}, y: {id(y)}\")"
   ]
  },
  {
   "cell_type": "code",
   "execution_count": 23,
   "id": "04ac6d4e",
   "metadata": {
    "scrolled": true
   },
   "outputs": [
    {
     "name": "stdout",
     "output_type": "stream",
     "text": [
      "1: 134606220581168, 2: 134606220581200\n"
     ]
    }
   ],
   "source": [
    "print(f\"1: {id(1)}, 2: {id(2)}\")   \n",
    "#since the code req y to have value 2, y now gets bound to object 2 - this is because value of object 1 CANNOT BE CHANGED, so binding is changed instead\n",
    "#x bound to 1, y bound to 2\n",
    "#object 1 - value cannot be changed -> immutable\n",
    "#other immutable types are str, float, bool\n",
    "#mutable - lists, dictionaries -> be very careful when using mutable data types"
   ]
  },
  {
   "cell_type": "code",
   "execution_count": 24,
   "id": "5bf1523d",
   "metadata": {},
   "outputs": [],
   "source": [
    "# x is bound to a list object with a value [1 ,2]\n",
    "x = [1, 2]\n",
    "\n",
    "# y is bound to the SAME list object with a value [1 ,2]\n",
    "y = x\n",
    "\n",
    "# y is used to change the value of the object from  [1, 2] to [1, 2, 3]\n",
    "y.append(3)"
   ]
  },
  {
   "cell_type": "code",
   "execution_count": null,
   "id": "d2cc4eb8",
   "metadata": {},
   "outputs": [],
   "source": [
    "y = x.copy()   #to have independent copy of x"
   ]
  },
  {
   "cell_type": "markdown",
   "id": "df0963ac",
   "metadata": {},
   "source": [
    "### 2.2 == is not the same as is"
   ]
  },
  {
   "cell_type": "code",
   "execution_count": null,
   "id": "758766dd",
   "metadata": {},
   "outputs": [],
   "source": [
    "#x is y checks for identity. \n",
    "#i.e., it asks if x and y are bound to the same object by comparing the ID.\n",
    "\n",
    "#x == y checks for equality by running a function that checks for equality \n",
    "#(such as _eq_ of a class)"
   ]
  }
 ],
 "metadata": {
  "kernelspec": {
   "display_name": "Python 3 (ipykernel)",
   "language": "python",
   "name": "python3"
  },
  "language_info": {
   "codemirror_mode": {
    "name": "ipython",
    "version": 3
   },
   "file_extension": ".py",
   "mimetype": "text/x-python",
   "name": "python",
   "nbconvert_exporter": "python",
   "pygments_lexer": "ipython3",
   "version": "3.9.2"
  },
  "nbTranslate": {
   "displayLangs": [
    "*"
   ],
   "hotkey": "alt-t",
   "langInMainMenu": true,
   "sourceLang": "en",
   "targetLang": "fr",
   "useGoogleTranslate": true
  },
  "toc": {
   "base_numbering": 1,
   "nav_menu": {},
   "number_sections": true,
   "sideBar": true,
   "skip_h1_title": false,
   "title_cell": "Table of Contents",
   "title_sidebar": "Contents",
   "toc_cell": false,
   "toc_position": {},
   "toc_section_display": true,
   "toc_window_display": false
  },
  "varInspector": {
   "cols": {
    "lenName": 16,
    "lenType": 16,
    "lenVar": 40
   },
   "kernels_config": {
    "python": {
     "delete_cmd_postfix": "",
     "delete_cmd_prefix": "del ",
     "library": "var_list.py",
     "varRefreshCmd": "print(var_dic_list())"
    },
    "r": {
     "delete_cmd_postfix": ") ",
     "delete_cmd_prefix": "rm(",
     "library": "var_list.r",
     "varRefreshCmd": "cat(var_dic_list()) "
    }
   },
   "types_to_exclude": [
    "module",
    "function",
    "builtin_function_or_method",
    "instance",
    "_Feature"
   ],
   "window_display": false
  },
  "vscode": {
   "interpreter": {
    "hash": "31f2aee4e71d21fbe5cf8b01ff0e069b9275f58929596ceb00d14d90e3e16cd6"
   }
  }
 },
 "nbformat": 4,
 "nbformat_minor": 5
}
