{
 "cells": [
  {
   "cell_type": "markdown",
   "id": "123456",
   "metadata": {},
   "source": [
    "<div style=\"text-align:left;font-size:2em\"><span style=\"font-weight:bolder;font-size:1.25em\">SP2273 | Learning Portfolio</span><br><br><span style=\"font-weight:bold;color:darkred\">Basics (Need)</span></div>"
   ]
  },
  {
   "cell_type": "markdown",
   "id": "65b8a9ac",
   "metadata": {},
   "source": [
    "## 1 Some Python Basics"
   ]
  },
  {
   "cell_type": "markdown",
   "id": "f9f5932e",
   "metadata": {},
   "source": [
    "### Functions"
   ]
  },
  {
   "cell_type": "code",
   "execution_count": 1,
   "id": "9d94da12",
   "metadata": {},
   "outputs": [
    {
     "name": "stdout",
     "output_type": "stream",
     "text": [
      "Hello world!\n"
     ]
    }
   ],
   "source": [
    "print('Hello world!')"
   ]
  },
  {
   "cell_type": "markdown",
   "id": "2fa9503e",
   "metadata": {},
   "source": [
    "### Python is interpreted"
   ]
  },
  {
   "cell_type": "code",
   "execution_count": 3,
   "id": "bac27f96",
   "metadata": {},
   "outputs": [
    {
     "name": "stdout",
     "output_type": "stream",
     "text": [
      "Hello World\n",
      "Hello World again\n"
     ]
    }
   ],
   "source": [
    "print('Hello World')\n",
    "print('Hello World again')"
   ]
  },
  {
   "cell_type": "markdown",
   "id": "4a99fbc1",
   "metadata": {},
   "source": [
    "### Python is sensitive."
   ]
  },
  {
   "cell_type": "markdown",
   "id": "7afbf607",
   "metadata": {},
   "source": [
    "### Comments"
   ]
  },
  {
   "cell_type": "code",
   "execution_count": 5,
   "id": "d391e317",
   "metadata": {},
   "outputs": [
    {
     "name": "stdout",
     "output_type": "stream",
     "text": [
      "chicken nugget\n"
     ]
    }
   ],
   "source": [
    "print('chicken nugget') #i'm hungry\n",
    "#the interpreter ignores this line"
   ]
  },
  {
   "cell_type": "markdown",
   "id": "30bf72e1",
   "metadata": {},
   "source": [
    "### = is not the same as =="
   ]
  },
  {
   "cell_type": "code",
   "execution_count": 8,
   "id": "98b30d22",
   "metadata": {},
   "outputs": [
    {
     "data": {
      "text/plain": [
       "False"
      ]
     },
     "execution_count": 8,
     "metadata": {},
     "output_type": "execute_result"
    }
   ],
   "source": [
    "name = 'Superman' #make name carry 'Superman'\n",
    "name == 'Batman' #tell me if name is equal to 'Batman'\n",
    "#answer: true or false\n",
    "#need to define name first!"
   ]
  },
  {
   "cell_type": "markdown",
   "id": "5f392a0b",
   "metadata": {},
   "source": [
    "### Use if to make decisions"
   ]
  },
  {
   "cell_type": "code",
   "execution_count": 11,
   "id": "ce0a1eda",
   "metadata": {},
   "outputs": [
    {
     "name": "stdout",
     "output_type": "stream",
     "text": [
      "Hello Hero | Cool!\n"
     ]
    }
   ],
   "source": [
    "name = 'Yasmeen'\n",
    "if name == 'Yasmeen':\n",
    "    print('Hello Hero | Cool!')\n",
    "else:\n",
    "    print ('Hello World!')\n",
    "#indentations must be correct! "
   ]
  },
  {
   "cell_type": "markdown",
   "id": "0ddebf0d",
   "metadata": {},
   "source": [
    "### Indentations (spaces) are sooo IMPORTANT!"
   ]
  },
  {
   "cell_type": "code",
   "execution_count": 13,
   "id": "43bd8ebb",
   "metadata": {},
   "outputs": [
    {
     "ename": "IndentationError",
     "evalue": "unexpected indent (1782743.py, line 5)",
     "output_type": "error",
     "traceback": [
      "\u001b[0;36m  Cell \u001b[0;32mIn[13], line 5\u001b[0;36m\u001b[0m\n\u001b[0;31m    print(x)\u001b[0m\n\u001b[0m    ^\u001b[0m\n\u001b[0;31mIndentationError\u001b[0m\u001b[0;31m:\u001b[0m unexpected indent\n"
     ]
    }
   ],
   "source": [
    "x=10\n",
    "print(x)  #this works\n",
    "\n",
    "x=10      \n",
    " print(x) #this does NOT work"
   ]
  },
  {
   "cell_type": "markdown",
   "id": "a2bd92a8",
   "metadata": {},
   "source": [
    "### ‘age’ is English, age is a variable."
   ]
  },
  {
   "cell_type": "code",
   "execution_count": 20,
   "id": "01f1d3e3",
   "metadata": {},
   "outputs": [
    {
     "name": "stdout",
     "output_type": "stream",
     "text": [
      "24\n"
     ]
    }
   ],
   "source": [
    "student_age=24 #better to write this instead of a=24\n",
    "print(student_age) #if print('age'), the word age will be printed"
   ]
  },
  {
   "cell_type": "markdown",
   "id": "e0240385",
   "metadata": {},
   "source": [
    "### Escape sequences"
   ]
  },
  {
   "cell_type": "code",
   "execution_count": 23,
   "id": "6c2b5684",
   "metadata": {},
   "outputs": [
    {
     "ename": "SyntaxError",
     "evalue": "invalid syntax (1211535675.py, line 3)",
     "output_type": "error",
     "traceback": [
      "\u001b[0;36m  Cell \u001b[0;32mIn[23], line 3\u001b[0;36m\u001b[0m\n\u001b[0;31m    print('You're twenty years old') #doesn't work\u001b[0m\n\u001b[0m               ^\u001b[0m\n\u001b[0;31mSyntaxError\u001b[0m\u001b[0;31m:\u001b[0m invalid syntax\n"
     ]
    }
   ],
   "source": [
    "#Example1#\n",
    "print('You\\'re twenty years old')\n",
    "print('You're twenty years old') #doesn't work"
   ]
  },
  {
   "cell_type": "code",
   "execution_count": 24,
   "id": "8bcddeed",
   "metadata": {},
   "outputs": [
    {
     "name": "stdout",
     "output_type": "stream",
     "text": [
      "A\\B\\C\n"
     ]
    }
   ],
   "source": [
    "#Example2#\n",
    "print('A\\\\B\\\\C')"
   ]
  },
  {
   "cell_type": "code",
   "execution_count": 25,
   "id": "9034f7b9",
   "metadata": {},
   "outputs": [
    {
     "name": "stdout",
     "output_type": "stream",
     "text": [
      "A\n",
      "B\n",
      "C\n"
     ]
    }
   ],
   "source": [
    "#Example3#\n",
    "print('A\\nB\\nC')"
   ]
  },
  {
   "cell_type": "code",
   "execution_count": 28,
   "id": "9e1ec8a0",
   "metadata": {},
   "outputs": [
    {
     "name": "stdout",
     "output_type": "stream",
     "text": [
      "A\tB\tC\n"
     ]
    }
   ],
   "source": [
    "#Example4#\n",
    "print('A\\tB\\tC') #notice the tabs!"
   ]
  },
  {
   "cell_type": "markdown",
   "id": "5cf3a2e7",
   "metadata": {},
   "source": [
    "### Brackets"
   ]
  },
  {
   "cell_type": "code",
   "execution_count": 29,
   "id": "3170f0d2",
   "metadata": {},
   "outputs": [
    {
     "name": "stdout",
     "output_type": "stream",
     "text": [
      "Hello!\n"
     ]
    },
    {
     "data": {
      "text/plain": [
       "15"
      ]
     },
     "execution_count": 29,
     "metadata": {},
     "output_type": "execute_result"
    }
   ],
   "source": [
    "print('Hello!') #functions\n",
    "(1+2)*5 #math"
   ]
  },
  {
   "cell_type": "code",
   "execution_count": 76,
   "id": "c9201cc4",
   "metadata": {},
   "outputs": [
    {
     "name": "stdout",
     "output_type": "stream",
     "text": [
      "[1, 2, 3, 4, 5]\n",
      "hello\n"
     ]
    }
   ],
   "source": [
    "py_list=[1,2,3,4,5] #1D list\n",
    "py_list_2=[[1,\"A\"], #2D list\n",
    "           [2,\"B\"],\n",
    "           [3,\"hello\"],\n",
    "           [4,\"okay\"],\n",
    "           [5,\"bye\"]]\n",
    "print(py_list) #need to have this function for smthg to come out\n",
    "print(py_list_2[2]) #having [2] indicates that you only want the THIRD ROW to be printed (starts from 0) "
   ]
  },
  {
   "cell_type": "code",
   "execution_count": 78,
   "id": "9928de90",
   "metadata": {},
   "outputs": [
    {
     "name": "stdout",
     "output_type": "stream",
     "text": [
      "Batman\n"
     ]
    }
   ],
   "source": [
    "personal_info={ #{} is used to store data that use a key to identify a value (dictionary)\n",
    "    'Name':'Batman', #use ''\n",
    "    'Real Name': 'Banana man', #use comma for each line\n",
    "    'Age':55,\n",
    "    'Affliation':'Justice League',\n",
    "    'Universe':'ours'\n",
    "}\n",
    "print(personal_info['Name']) #to print only name, indicate with ['Name']"
   ]
  },
  {
   "cell_type": "markdown",
   "id": "0deb0c2a",
   "metadata": {},
   "source": [
    "## Giving Python superpowers"
   ]
  },
  {
   "cell_type": "code",
   "execution_count": 81,
   "id": "f4b0a135",
   "metadata": {},
   "outputs": [
    {
     "data": {
      "text/plain": [
       "40.5"
      ]
     },
     "execution_count": 81,
     "metadata": {},
     "output_type": "execute_result"
    }
   ],
   "source": [
    "1 * ((2 - 3) + 4) ** 5 / 6 #** means power, CANNOT use ^"
   ]
  },
  {
   "cell_type": "raw",
   "id": "ceeb7107",
   "metadata": {},
   "source": [
    "sqrt(4) #will NOT work, python is limited"
   ]
  },
  {
   "cell_type": "code",
   "execution_count": 84,
   "id": "7b08b7ed",
   "metadata": {},
   "outputs": [],
   "source": [
    "import math #adding (importing) the functions - math package"
   ]
  },
  {
   "cell_type": "markdown",
   "id": "8a4c46be",
   "metadata": {},
   "source": [
    "### 2.1 Packages"
   ]
  },
  {
   "cell_type": "code",
   "execution_count": 90,
   "id": "0393f682",
   "metadata": {},
   "outputs": [
    {
     "name": "stdout",
     "output_type": "stream",
     "text": [
      "Collecting numpy\n",
      "  Downloading numpy-1.24.1-cp39-cp39-manylinux_2_17_x86_64.manylinux2014_x86_64.whl (17.3 MB)\n",
      "\u001b[K     |████████████████████████████████| 17.3 MB 14.8 MB/s eta 0:00:01\n",
      "\u001b[?25hInstalling collected packages: numpy\n",
      "Successfully installed numpy-1.24.1\n",
      "Note: you may need to restart the kernel to use updated packages.\n"
     ]
    }
   ],
   "source": [
    "pip install numpy"
   ]
  },
  {
   "cell_type": "code",
   "execution_count": 85,
   "id": "fd4d3e0c",
   "metadata": {},
   "outputs": [
    {
     "data": {
      "text/plain": [
       "2.0"
      ]
     },
     "execution_count": 85,
     "metadata": {},
     "output_type": "execute_result"
    }
   ],
   "source": [
    "math.sqrt(4)"
   ]
  },
  {
   "cell_type": "code",
   "execution_count": 92,
   "id": "2a255445",
   "metadata": {},
   "outputs": [],
   "source": [
    "import numpy as np #alias is np to make things easier, may need to install it first"
   ]
  },
  {
   "cell_type": "code",
   "execution_count": 93,
   "id": "dd6aeeaa",
   "metadata": {},
   "outputs": [
    {
     "data": {
      "text/plain": [
       "2.0"
      ]
     },
     "execution_count": 93,
     "metadata": {},
     "output_type": "execute_result"
    }
   ],
   "source": [
    "np.sqrt(4)"
   ]
  },
  {
   "cell_type": "code",
   "execution_count": 94,
   "id": "90373e7a",
   "metadata": {},
   "outputs": [
    {
     "data": {
      "text/plain": [
       "array([2., 3., 4.])"
      ]
     },
     "execution_count": 94,
     "metadata": {},
     "output_type": "execute_result"
    }
   ],
   "source": [
    "np.sqrt([4, 9, 16]) #np version vs math: can handle other list of numbers"
   ]
  },
  {
   "cell_type": "markdown",
   "id": "5558f889",
   "metadata": {},
   "source": [
    "### The dot (.)"
   ]
  },
  {
   "cell_type": "code",
   "execution_count": 102,
   "id": "10716fe3",
   "metadata": {},
   "outputs": [
    {
     "data": {
      "text/plain": [
       "(3.0, 2.0)"
      ]
     },
     "execution_count": 102,
     "metadata": {},
     "output_type": "execute_result"
    }
   ],
   "source": [
    "(math. sqrt (9), #. indicate ownership\n",
    "np. sqrt (4)) #by default, the last line will alw be shown\n",
    "#if want first line to show, use print function for the first line\n",
    "#using () for whole thing also gives both values"
   ]
  },
  {
   "cell_type": "code",
   "execution_count": 98,
   "id": "d2486390",
   "metadata": {},
   "outputs": [
    {
     "data": {
      "text/plain": [
       "['I', 'am', 'Batman']"
      ]
     },
     "execution_count": 98,
     "metadata": {},
     "output_type": "execute_result"
    }
   ],
   "source": [
    "\"I am Batman\".split() #split() function doesn't work for numbers"
   ]
  },
  {
   "cell_type": "markdown",
   "id": "27598b83",
   "metadata": {},
   "source": [
    "## Exercise 1 :  Total recall?"
   ]
  },
  {
   "cell_type": "markdown",
   "id": "84861069",
   "metadata": {},
   "source": [
    "import --> packaging\n",
    "split() function \n",
    "print() function\n",
    "sqrt. function\n",
    "functions like age, etc.\n",
    "py_list --> !D list\n",
    ". for ownership\n",
    "() for functions\n",
    "\\t for new tab, \\n for new line?\n",
    "{} to store info"
   ]
  },
  {
   "cell_type": "markdown",
   "id": "f9810079",
   "metadata": {},
   "source": [
    "## Exercise 2 :  Debug me"
   ]
  },
  {
   "cell_type": "code",
   "execution_count": 9,
   "id": "62a4250b",
   "metadata": {},
   "outputs": [
    {
     "name": "stdout",
     "output_type": "stream",
     "text": [
      "3 4 5.0\n"
     ]
    }
   ],
   "source": [
    "import math\n",
    "x, y = 3, 4\n",
    "z = math.sqrt(x**2 + y**2)\n",
    "print(x, y, z)"
   ]
  },
  {
   "cell_type": "markdown",
   "id": "1f4696a9",
   "metadata": {},
   "source": [
    "## Exercise 3 :  In your own words"
   ]
  },
  {
   "cell_type": "markdown",
   "id": "3fcd913e",
   "metadata": {},
   "source": [
    "1. Function - smthg that does a specific task\n",
    "1. Argument - smthg that is processed via a function\n",
    "1. Comments - notes using #\n",
    "1. Indentations - very important to ensure code runs smoothly\n",
    "1. Packages - enhances Python, eg. math, numpy"
   ]
  },
  {
   "cell_type": "markdown",
   "id": "7831cc6f",
   "metadata": {},
   "source": [
    "## Exercise 4 :  More than one way to divide"
   ]
  },
  {
   "cell_type": "code",
   "execution_count": 108,
   "id": "a64e0315",
   "metadata": {},
   "outputs": [
    {
     "data": {
      "text/plain": [
       "2.5"
      ]
     },
     "execution_count": 108,
     "metadata": {},
     "output_type": "execute_result"
    }
   ],
   "source": [
    "5/2 #gives exact value"
   ]
  },
  {
   "cell_type": "code",
   "execution_count": 11,
   "id": "7e4d97f5",
   "metadata": {},
   "outputs": [
    {
     "data": {
      "text/plain": [
       "2"
      ]
     },
     "execution_count": 11,
     "metadata": {},
     "output_type": "execute_result"
    }
   ],
   "source": [
    "5//2 #rounds down (integer division), quotient\n",
    "#it gives the quotient in terms of the largest possible integer, which is either less than or equal to the normal division result"
   ]
  },
  {
   "cell_type": "code",
   "execution_count": 111,
   "id": "0b1adb57",
   "metadata": {},
   "outputs": [
    {
     "data": {
      "text/plain": [
       "1"
      ]
     },
     "execution_count": 111,
     "metadata": {},
     "output_type": "execute_result"
    }
   ],
   "source": [
    "5%2 #gives remainder of value"
   ]
  }
 ],
 "metadata": {
  "kernelspec": {
   "display_name": "Python 3 (ipykernel)",
   "language": "python",
   "name": "python3"
  },
  "language_info": {
   "codemirror_mode": {
    "name": "ipython",
    "version": 3
   },
   "file_extension": ".py",
   "mimetype": "text/x-python",
   "name": "python",
   "nbconvert_exporter": "python",
   "pygments_lexer": "ipython3",
   "version": "3.9.2"
  },
  "nbTranslate": {
   "displayLangs": [
    "*"
   ],
   "hotkey": "alt-t",
   "langInMainMenu": true,
   "sourceLang": "en",
   "targetLang": "fr",
   "useGoogleTranslate": true
  },
  "toc": {
   "base_numbering": 1,
   "nav_menu": {},
   "number_sections": true,
   "sideBar": true,
   "skip_h1_title": false,
   "title_cell": "Table of Contents",
   "title_sidebar": "Contents",
   "toc_cell": false,
   "toc_position": {},
   "toc_section_display": true,
   "toc_window_display": false
  },
  "varInspector": {
   "cols": {
    "lenName": 16,
    "lenType": 16,
    "lenVar": 40
   },
   "kernels_config": {
    "python": {
     "delete_cmd_postfix": "",
     "delete_cmd_prefix": "del ",
     "library": "var_list.py",
     "varRefreshCmd": "print(var_dic_list())"
    },
    "r": {
     "delete_cmd_postfix": ") ",
     "delete_cmd_prefix": "rm(",
     "library": "var_list.r",
     "varRefreshCmd": "cat(var_dic_list()) "
    }
   },
   "types_to_exclude": [
    "module",
    "function",
    "builtin_function_or_method",
    "instance",
    "_Feature"
   ],
   "window_display": false
  },
  "vscode": {
   "interpreter": {
    "hash": "31f2aee4e71d21fbe5cf8b01ff0e069b9275f58929596ceb00d14d90e3e16cd6"
   }
  }
 },
 "nbformat": 4,
 "nbformat_minor": 5
}
