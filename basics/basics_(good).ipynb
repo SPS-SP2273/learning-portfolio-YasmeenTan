{
 "cells": [
  {
   "cell_type": "markdown",
   "id": "123456",
   "metadata": {},
   "source": [
    "<div style=\"text-align:left;font-size:2em\"><span style=\"font-weight:bolder;font-size:1.25em\">SP2273 | Learning Portfolio</span><br><br><span style=\"font-weight:bold;color:darkred\">Basics (Good)</span></div>"
   ]
  },
  {
   "cell_type": "markdown",
   "id": "7ef078ec",
   "metadata": {},
   "source": [
    "## 1 More Python Basics"
   ]
  },
  {
   "cell_type": "markdown",
   "id": "2e947f88",
   "metadata": {},
   "source": [
    "### 1.1 Computers read = from Right to Left!"
   ]
  },
  {
   "cell_type": "code",
   "execution_count": 8,
   "id": "3a67e8e2",
   "metadata": {},
   "outputs": [
    {
     "data": {
      "text/plain": [
       "42"
      ]
     },
     "execution_count": 8,
     "metadata": {},
     "output_type": "execute_result"
    }
   ],
   "source": [
    "y=40      #make y have the value 40\n",
    "y=y+2     #add y=40 to 2 THEN make y = equal to the answer\n",
    "print(y)  #works in programming but NOT math\n",
    "x=y=10    #this works too!"
   ]
  },
  {
   "cell_type": "markdown",
   "id": "f330dce7",
   "metadata": {},
   "source": [
    "### 1.2 Shorter and cleaner"
   ]
  },
  {
   "cell_type": "code",
   "execution_count": 10,
   "id": "872c8ee1",
   "metadata": {},
   "outputs": [
    {
     "data": {
      "text/plain": [
       "40.0"
      ]
     },
     "execution_count": 10,
     "metadata": {},
     "output_type": "execute_result"
    }
   ],
   "source": [
    "y=40\n",
    "y+=2      #same as y=y+2\n",
    "y         #don't need to use print()?\n",
    "\n",
    "y-=2      #same as y=y-2\n",
    "y\n",
    "\n",
    "y/=2      #same as y=y/2\n",
    "y*=2      #same as y=y*2\n",
    "y"
   ]
  },
  {
   "cell_type": "markdown",
   "id": "882bb155",
   "metadata": {},
   "source": [
    "### 1.3 Asking questions"
   ]
  },
  {
   "cell_type": "code",
   "execution_count": 15,
   "id": "b9da5b41",
   "metadata": {},
   "outputs": [
    {
     "data": {
      "text/plain": [
       "True"
      ]
     },
     "execution_count": 15,
     "metadata": {},
     "output_type": "execute_result"
    }
   ],
   "source": [
    "fruits=[\"apple\",\"banana\",\"pineapple\",\"durian\"]\n",
    "vegetables=[\"celery\",\"potato\",\"broccoli\",\"kale\"]\n",
    "\n",
    "\"apple\" in fruits\n",
    "\"peach\" in fruits\n",
    "\"peach\" not in fruits    #will only ans the latest line of code\n",
    "(\"apple\" in fruits) and (\"celery\" in vegetables)\n",
    "(\"apple\" in fruits) or (\"celery\" in vegetables)   #3>'apple' won't work in basic python"
   ]
  },
  {
   "cell_type": "code",
   "execution_count": null,
   "id": "8bfb3530",
   "metadata": {},
   "outputs": [],
   "source": [
    "#equals: ==\n",
    "#not equal: !=\n",
    "#less than, greater than: <, >\n",
    "#less than or equal: <="
   ]
  },
  {
   "cell_type": "code",
   "execution_count": 19,
   "id": "d03e01f7",
   "metadata": {},
   "outputs": [
    {
     "data": {
      "text/plain": [
       "False"
      ]
     },
     "execution_count": 19,
     "metadata": {},
     "output_type": "execute_result"
    }
   ],
   "source": [
    "\"apples\">\"oranges\"   #works because eng letters are internally represented as numbers, eg. a=96"
   ]
  },
  {
   "cell_type": "code",
   "execution_count": 21,
   "id": "95edcf74",
   "metadata": {},
   "outputs": [
    {
     "data": {
      "text/plain": [
       "True"
      ]
     },
     "execution_count": 21,
     "metadata": {},
     "output_type": "execute_result"
    }
   ],
   "source": [
    "(x>5) and (x<15)\n",
    "#same as 5<x<15"
   ]
  },
  {
   "cell_type": "markdown",
   "id": "3542e363",
   "metadata": {},
   "source": [
    "### 1.4 There is more to if"
   ]
  },
  {
   "cell_type": "code",
   "execution_count": 25,
   "id": "35514fae",
   "metadata": {},
   "outputs": [
    {
     "name": "stdout",
     "output_type": "stream",
     "text": [
      "Hello Joe|Mama!\n"
     ]
    }
   ],
   "source": [
    "name=\"Joe\"\n",
    "if name==\"Joe\":                 #use == for if\n",
    "    print(\"Hello Joe|Mama!\")\n",
    "elif name==\"Robin\":             #elif is else if\n",
    "    print(\"Hello Robin\")\n",
    "else:\n",
    "    print(\"Hello World!\")"
   ]
  },
  {
   "cell_type": "markdown",
   "id": "8dc9a70a",
   "metadata": {},
   "source": [
    "### 1.5 Python stores information in different formats or types."
   ]
  },
  {
   "cell_type": "code",
   "execution_count": 27,
   "id": "f0af171d",
   "metadata": {},
   "outputs": [
    {
     "name": "stdout",
     "output_type": "stream",
     "text": [
      "1 <class 'int'>\n"
     ]
    }
   ],
   "source": [
    "#using the function type()\n",
    "x=int(1.234)      #as integer\n",
    "print(x,type(x))"
   ]
  },
  {
   "cell_type": "code",
   "execution_count": 29,
   "id": "e2d0e1ae",
   "metadata": {},
   "outputs": [
    {
     "name": "stdout",
     "output_type": "stream",
     "text": [
      "1.234 <class 'str'>\n"
     ]
    }
   ],
   "source": [
    "x=str(1.234)        #as an english word?? but it's not a word tho\n",
    "print(x,type(x))"
   ]
  },
  {
   "cell_type": "code",
   "execution_count": 30,
   "id": "5f99cef2",
   "metadata": {},
   "outputs": [
    {
     "name": "stdout",
     "output_type": "stream",
     "text": [
      "1.234 <class 'float'>\n"
     ]
    }
   ],
   "source": [
    "x=float(1.234)    #as a decimal\n",
    "print(x,type(x))"
   ]
  },
  {
   "cell_type": "code",
   "execution_count": 32,
   "id": "49d19010",
   "metadata": {},
   "outputs": [
    {
     "name": "stdout",
     "output_type": "stream",
     "text": [
      "(1.234+0j) <class 'complex'>\n"
     ]
    }
   ],
   "source": [
    "x=complex(1.234)    #as a complex number (include imaginary part)\n",
    "print(x,type(x))"
   ]
  },
  {
   "cell_type": "markdown",
   "id": "2db4197f",
   "metadata": {},
   "source": [
    "[other basic data types in python](https://realpython.com/python-data-types/)"
   ]
  },
  {
   "cell_type": "code",
   "execution_count": 35,
   "id": "df501479",
   "metadata": {},
   "outputs": [
    {
     "name": "stdout",
     "output_type": "stream",
     "text": [
      "1.234 <class 'str'>\n",
      "1.234 <class 'float'>\n"
     ]
    }
   ],
   "source": [
    "x='1.234'\n",
    "print(x,type(x))\n",
    "x=float(x)\n",
    "print(x,type(x))    #typecasting, cast x into the type float"
   ]
  },
  {
   "cell_type": "markdown",
   "id": "abd8673d",
   "metadata": {},
   "source": [
    "### 1.6 Combining English and variables"
   ]
  },
  {
   "cell_type": "code",
   "execution_count": 43,
   "id": "bf152b25",
   "metadata": {},
   "outputs": [
    {
     "name": "stdout",
     "output_type": "stream",
     "text": [
      "Hello Batman!\n"
     ]
    }
   ],
   "source": [
    "#f: f-string (string interpolation)\n",
    "name=\"Batman\"\n",
    "print(f'Hello {name}!')"
   ]
  },
  {
   "cell_type": "code",
   "execution_count": 46,
   "id": "a30aca4a",
   "metadata": {},
   "outputs": [
    {
     "name": "stdout",
     "output_type": "stream",
     "text": [
      "Hello BATMAN!\n"
     ]
    }
   ],
   "source": [
    "print(f'Hello {name.upper()}!')"
   ]
  },
  {
   "cell_type": "code",
   "execution_count": 47,
   "id": "b0fe796f",
   "metadata": {},
   "outputs": [
    {
     "name": "stdout",
     "output_type": "stream",
     "text": [
      "The value of 10 squared is 100!\n"
     ]
    }
   ],
   "source": [
    "x=10\n",
    "print(f'The value of {x} squared is {x**2}!')"
   ]
  },
  {
   "cell_type": "code",
   "execution_count": 50,
   "id": "e8107c4e",
   "metadata": {},
   "outputs": [
    {
     "name": "stdout",
     "output_type": "stream",
     "text": [
      "bruce wayne is BATMAN\n"
     ]
    }
   ],
   "source": [
    "text=\"bruce wayne is BATMAN\"\n",
    "print(f'{text}')"
   ]
  },
  {
   "cell_type": "code",
   "execution_count": 52,
   "id": "30f3076e",
   "metadata": {},
   "outputs": [
    {
     "name": "stdout",
     "output_type": "stream",
     "text": [
      "         bruce wayne is BATMAN\n"
     ]
    }
   ],
   "source": [
    "print(f'{text:>30}')     #block of 30 characters, aligned right"
   ]
  },
  {
   "cell_type": "code",
   "execution_count": 55,
   "id": "a0b9190b",
   "metadata": {},
   "outputs": [
    {
     "name": "stdout",
     "output_type": "stream",
     "text": [
      "    bruce wayne is BATMAN     \n"
     ]
    }
   ],
   "source": [
    "print(f'{text:^30}')   #block of 30 characters, aligned centre"
   ]
  },
  {
   "cell_type": "code",
   "execution_count": 57,
   "id": "66b76266",
   "metadata": {},
   "outputs": [
    {
     "name": "stdout",
     "output_type": "stream",
     "text": [
      "bruce wayne is BATMAN         \n"
     ]
    }
   ],
   "source": [
    "print(f'{text:<30}')  #block of 30 characters, aligned left"
   ]
  },
  {
   "cell_type": "code",
   "execution_count": 61,
   "id": "3afb341c",
   "metadata": {},
   "outputs": [
    {
     "name": "stdout",
     "output_type": "stream",
     "text": [
      "The cube of pi to 6 decimal places is 31.006277\n"
     ]
    }
   ],
   "source": [
    "print(f'The cube of pi to 6 decimal places is {np.pi**3.:6f}')\n",
    "#bruh written as :.6f aft a number to give 6 decimal places"
   ]
  },
  {
   "cell_type": "code",
   "execution_count": 63,
   "id": "26d4e953",
   "metadata": {},
   "outputs": [
    {
     "name": "stdout",
     "output_type": "stream",
     "text": [
      "The cube of pi to 6 decimal places is 3.100628e+01\n"
     ]
    }
   ],
   "source": [
    "print(f'The cube of pi to 6 decimal places is {np.pi**3:.6e}')\n",
    "#outputs number in scientific notation"
   ]
  },
  {
   "cell_type": "markdown",
   "id": "603feb51",
   "metadata": {},
   "source": [
    "### 1.7 Python can be a prima-donna."
   ]
  },
  {
   "cell_type": "code",
   "execution_count": null,
   "id": "fe9de671",
   "metadata": {},
   "outputs": [],
   "source": [
    "#debugging tings"
   ]
  },
  {
   "cell_type": "markdown",
   "id": "62900645",
   "metadata": {},
   "source": [
    "## 2 Best Practices for Scientific Computing"
   ]
  },
  {
   "cell_type": "markdown",
   "id": "33369478",
   "metadata": {},
   "source": [
    "### 2.1 Some tips"
   ]
  },
  {
   "cell_type": "markdown",
   "id": "b44f9bec",
   "metadata": {},
   "source": [
    "### 2.2 Getting help."
   ]
  },
  {
   "cell_type": "code",
   "execution_count": 64,
   "id": "bb8e10e1",
   "metadata": {},
   "outputs": [
    {
     "name": "stdout",
     "output_type": "stream",
     "text": [
      "Help on built-in function print in module builtins:\n",
      "\n",
      "print(...)\n",
      "    print(value, ..., sep=' ', end='\\n', file=sys.stdout, flush=False)\n",
      "    \n",
      "    Prints the values to a stream, or to sys.stdout by default.\n",
      "    Optional keyword arguments:\n",
      "    file:  a file-like object (stream); defaults to the current sys.stdout.\n",
      "    sep:   string inserted between values, default a space.\n",
      "    end:   string appended after the last value, default a newline.\n",
      "    flush: whether to forcibly flush the stream.\n",
      "\n"
     ]
    }
   ],
   "source": [
    "help(print)"
   ]
  },
  {
   "cell_type": "markdown",
   "id": "de1706b9",
   "metadata": {},
   "source": [
    "## Exercise 1 :  Bias for some heroes"
   ]
  },
  {
   "cell_type": "code",
   "execution_count": 105,
   "id": "c0f4335e",
   "metadata": {},
   "outputs": [
    {
     "name": "stdout",
     "output_type": "stream",
     "text": [
      "Hello aquaman\n",
      "Hello BATMAN\n",
      "Hello BLACK WIDOW\n",
      "Hello joe\n",
      "Hello batman\n"
     ]
    }
   ],
   "source": [
    "#using or operator\n",
    "def hello(name):\n",
    "    if name == \"Batman\" or name == \"Black Widow\":\n",
    "        print(f'Hello {name.upper()}')\n",
    "    else:\n",
    "        print(f'Hello {name.lower()}')\n",
    "hello(\"Aquaman\")\n",
    "hello(\"Batman\")\n",
    "hello (\"Black Widow\")\n",
    "hello (\"Joe\")\n",
    "hello(\"batMAN\")"
   ]
  },
  {
   "cell_type": "code",
   "execution_count": 100,
   "id": "a6c15551",
   "metadata": {},
   "outputs": [
    {
     "name": "stdout",
     "output_type": "stream",
     "text": [
      "Hello aquaman\n",
      "Hello BATMAN\n",
      "Hello BLACK WIDOW\n",
      "Hello joe\n",
      "Hello batman\n"
     ]
    }
   ],
   "source": [
    "#using elif\n",
    "name=[\"Batman\",\"Black Widow\"]\n",
    "def hello(name):\n",
    "    if name == \"Batman\": \n",
    "        print(f'Hello {name.upper()}')\n",
    "    elif name == \"Black Widow\":\n",
    "        print(f'Hello {name.upper()}')\n",
    "    else:\n",
    "        print(f'Hello {name.lower()}') \n",
    "hello(\"Aquaman\")\n",
    "hello(\"Batman\")\n",
    "hello (\"Black Widow\")\n",
    "hello (\"Joe\")\n",
    "hello(\"batMAN\")"
   ]
  },
  {
   "cell_type": "markdown",
   "id": "80331638",
   "metadata": {},
   "source": [
    "## Exercise 2 :  Bias for some heroes, continues"
   ]
  },
  {
   "cell_type": "code",
   "execution_count": 134,
   "id": "0077838e",
   "metadata": {},
   "outputs": [
    {
     "ename": "SyntaxError",
     "evalue": "invalid syntax (1645007539.py, line 1)",
     "output_type": "error",
     "traceback": [
      "\u001b[0;36m  Cell \u001b[0;32mIn[134], line 1\u001b[0;36m\u001b[0m\n\u001b[0;31m    def hello (name.upper()):\u001b[0m\n\u001b[0m                   ^\u001b[0m\n\u001b[0;31mSyntaxError\u001b[0m\u001b[0;31m:\u001b[0m invalid syntax\n"
     ]
    }
   ],
   "source": [
    "def hello (name.upper()):\n",
    "    if name == \"BATMAN\" or name == \"BLACK WIDOW\":\n",
    "        print(f'Hello {name.upper()}')\n",
    "    else:\n",
    "        print(f'Hello {name.lower()}')\n",
    "hello(\"batMAN\")"
   ]
  },
  {
   "cell_type": "markdown",
   "id": "4083c4ce",
   "metadata": {},
   "source": [
    "## Exercise 3 :  Look for help to replace"
   ]
  },
  {
   "cell_type": "code",
   "execution_count": 117,
   "id": "cc33662f",
   "metadata": {},
   "outputs": [
    {
     "name": "stdout",
     "output_type": "stream",
     "text": [
      "String after replacing: The Batman lives in Gotham City\n"
     ]
    }
   ],
   "source": [
    "str = \"The Joker lives in Gotham City\"\n",
    "str_replace = str.replace(\"Joker\", \"Batman\")\n",
    "print(\"String after replacing: \" + str_replace)"
   ]
  }
 ],
 "metadata": {
  "kernelspec": {
   "display_name": "Python 3 (ipykernel)",
   "language": "python",
   "name": "python3"
  },
  "language_info": {
   "codemirror_mode": {
    "name": "ipython",
    "version": 3
   },
   "file_extension": ".py",
   "mimetype": "text/x-python",
   "name": "python",
   "nbconvert_exporter": "python",
   "pygments_lexer": "ipython3",
   "version": "3.9.2"
  },
  "nbTranslate": {
   "displayLangs": [
    "*"
   ],
   "hotkey": "alt-t",
   "langInMainMenu": true,
   "sourceLang": "en",
   "targetLang": "fr",
   "useGoogleTranslate": true
  },
  "toc": {
   "base_numbering": 1,
   "nav_menu": {},
   "number_sections": true,
   "sideBar": true,
   "skip_h1_title": false,
   "title_cell": "Table of Contents",
   "title_sidebar": "Contents",
   "toc_cell": false,
   "toc_position": {},
   "toc_section_display": true,
   "toc_window_display": false
  },
  "varInspector": {
   "cols": {
    "lenName": 16,
    "lenType": 16,
    "lenVar": 40
   },
   "kernels_config": {
    "python": {
     "delete_cmd_postfix": "",
     "delete_cmd_prefix": "del ",
     "library": "var_list.py",
     "varRefreshCmd": "print(var_dic_list())"
    },
    "r": {
     "delete_cmd_postfix": ") ",
     "delete_cmd_prefix": "rm(",
     "library": "var_list.r",
     "varRefreshCmd": "cat(var_dic_list()) "
    }
   },
   "types_to_exclude": [
    "module",
    "function",
    "builtin_function_or_method",
    "instance",
    "_Feature"
   ],
   "window_display": false
  },
  "vscode": {
   "interpreter": {
    "hash": "31f2aee4e71d21fbe5cf8b01ff0e069b9275f58929596ceb00d14d90e3e16cd6"
   }
  }
 },
 "nbformat": 4,
 "nbformat_minor": 5
}
