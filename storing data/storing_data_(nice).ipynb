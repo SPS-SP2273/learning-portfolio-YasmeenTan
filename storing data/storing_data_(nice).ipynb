{
 "cells": [
  {
   "cell_type": "markdown",
   "id": "123456",
   "metadata": {},
   "source": [
    "<div style=\"text-align:left;font-size:2em\"><span style=\"font-weight:bolder;font-size:1.25em\">SP2273 | Learning Portfolio</span><br><br><span style=\"font-weight:bold;color:darkred\">Storing Data (Nice)</span></div>"
   ]
  },
  {
   "cell_type": "markdown",
   "id": "979296fa",
   "metadata": {},
   "source": [
    "## 1 Classes"
   ]
  },
  {
   "cell_type": "markdown",
   "id": "e5fe906b",
   "metadata": {},
   "source": [
    "### 1.1 A grave injustice"
   ]
  },
  {
   "cell_type": "markdown",
   "id": "9da257f3",
   "metadata": {},
   "source": [
    "object-orient programming (OOP) - functional programming"
   ]
  },
  {
   "cell_type": "markdown",
   "id": "9d11ef10",
   "metadata": {},
   "source": [
    "### 1.2 A particle class"
   ]
  },
  {
   "cell_type": "code",
   "execution_count": 1,
   "id": "8af38244",
   "metadata": {},
   "outputs": [],
   "source": [
    "class Particle1D:\n",
    "    mass=None\n",
    "    position=None\n",
    "    radius=None"
   ]
  },
  {
   "cell_type": "code",
   "execution_count": null,
   "id": "2ee8c594",
   "metadata": {},
   "outputs": [],
   "source": [
    "#using class to create two particles\n",
    "particle_0=Particle1D()        # Create a new particle\n",
    "particle_0.mass=10             # Set mass for particle 0 \n",
    "particle_0.position=.5         # Set position of particle 0\n",
    "particle_0.radius=.01          # Set the radius of particle 0\n",
    "\n",
    "particle_1=Particle1D()        # Create another particle\n",
    "particle_1.mass=20             # Set mass for particle 1 \n",
    "particle_1.position=.1         # Set position of particle 1\n",
    "particle_1.radius=.01          # Set the radius of particle 1\n",
    "\n",
    "\n",
    "#particles 0 and 1 are instances of the class Particle1D\n",
    "#objects of the type Particle1D"
   ]
  },
  {
   "cell_type": "code",
   "execution_count": 3,
   "id": "bdaf7971",
   "metadata": {},
   "outputs": [
    {
     "name": "stdout",
     "output_type": "stream",
     "text": [
      "Particle 0 has mass None and is at position None.\n"
     ]
    }
   ],
   "source": [
    "particle_0=Particle1D()\n",
    "print(f'Particle 0 has mass {particle_0.mass} and is at position {particle_0.position}.')"
   ]
  },
  {
   "cell_type": "code",
   "execution_count": 7,
   "id": "625f694d",
   "metadata": {},
   "outputs": [
    {
     "name": "stdout",
     "output_type": "stream",
     "text": [
      "Particle 1 has mass 20 and is at position 0.1.\n"
     ]
    }
   ],
   "source": [
    "particle_1=Particle1D()        # Create another particle\n",
    "particle_1.mass=20             # Set mass for particle 1 \n",
    "particle_1.position=.1         # Set position of particle 1\n",
    "particle_1.radius=.01          #need define first! - including definining mass, etc\n",
    "print(f'Particle 1 has mass {particle_1.mass} and is at position {particle_1.position}.')"
   ]
  },
  {
   "cell_type": "markdown",
   "id": "4e4680f6",
   "metadata": {},
   "source": [
    "### 1.3 Class vs Object variables"
   ]
  },
  {
   "cell_type": "code",
   "execution_count": 8,
   "id": "a8b3759c",
   "metadata": {},
   "outputs": [],
   "source": [
    "Particle1D.mass = 99           # Set the class variable mass\n",
    "Particle1D.radius = .01        # Set the class variable radius\n",
    "\n",
    "particle_0=Particle1D()        # Create a new particle\n",
    "particle_0.position=.5         # Set position of particle 0\n",
    "                               # This is the position variable\n",
    "                               # of object 0\n",
    "\n",
    "particle_1=Particle1D()        # Create another particle\n",
    "particle_1.position=.1         # Set position of particle 1\n",
    "                               # This is the position variable\n",
    "                               # of object 1"
   ]
  },
  {
   "cell_type": "code",
   "execution_count": 9,
   "id": "f00c570f",
   "metadata": {},
   "outputs": [
    {
     "name": "stdout",
     "output_type": "stream",
     "text": [
      "Particle 0 has mass 99 and is at position 0.5.\n"
     ]
    }
   ],
   "source": [
    "print(f'Particle 0 has mass {particle_0.mass} and is at position {particle_0.position}.')"
   ]
  },
  {
   "cell_type": "code",
   "execution_count": 10,
   "id": "72db6e76",
   "metadata": {},
   "outputs": [
    {
     "name": "stdout",
     "output_type": "stream",
     "text": [
      "Particle 1 has mass 99 and is at position 0.1.\n"
     ]
    }
   ],
   "source": [
    "print(f'Particle 1 has mass {particle_1.mass} and is at position {particle_1.position}.')"
   ]
  },
  {
   "cell_type": "markdown",
   "id": "09abf7ba",
   "metadata": {},
   "source": [
    "to access class variable, use . with class name\n",
    "\n",
    "to access object variable, use . w object \n",
    "\n",
    "what's odne to object does not affect class or other objects"
   ]
  },
  {
   "cell_type": "markdown",
   "id": "c7092a96",
   "metadata": {},
   "source": [
    "### 1.4 Making it more scalable"
   ]
  },
  {
   "cell_type": "code",
   "execution_count": 12,
   "id": "bbc0b067",
   "metadata": {},
   "outputs": [
    {
     "name": "stdout",
     "output_type": "stream",
     "text": [
      "Particle 0 has mass 99 and is at position 0.49373093083960784.\n"
     ]
    }
   ],
   "source": [
    "# Make all the particles identical\n",
    "Particle1D.mass=99\n",
    "Particle1D.radius=.01\n",
    "\n",
    "# Create a list of particles\n",
    "all_particles=[Particle1D()]\n",
    "all_particles+=[Particle1D()]\n",
    "all_particles+=[Particle1D()]\n",
    "\n",
    "# Initialise with a RANDOM position\n",
    "i = 0\n",
    "all_particles[i].position=np.random.rand()\n",
    "\n",
    "i += 1\n",
    "all_particles[i].position=np.random.rand()\n",
    "\n",
    "i += 1\n",
    "all_particles[i].position=np.random.rand()\n",
    "\n",
    "\n",
    "#checking if it works:\n",
    "i = 0\n",
    "print(f'Particle {i} has mass {all_particles[i].mass} and is at position {all_particles[i].position}.')\n",
    "\n",
    "i += 1\n",
    "print(f'Particle {i} has mass {all_particles[i].mass} and is at position {all_particles[i].position}.')\n",
    "\n",
    "i += 1\n",
    "print(f'Particle {i} has mass {all_particles[i].mass} and is at position {all_particles[i].position}.')"
   ]
  }
 ],
 "metadata": {
  "kernelspec": {
   "display_name": "Python 3 (ipykernel)",
   "language": "python",
   "name": "python3"
  },
  "language_info": {
   "codemirror_mode": {
    "name": "ipython",
    "version": 3
   },
   "file_extension": ".py",
   "mimetype": "text/x-python",
   "name": "python",
   "nbconvert_exporter": "python",
   "pygments_lexer": "ipython3",
   "version": "3.9.2"
  },
  "nbTranslate": {
   "displayLangs": [
    "*"
   ],
   "hotkey": "alt-t",
   "langInMainMenu": true,
   "sourceLang": "en",
   "targetLang": "fr",
   "useGoogleTranslate": true
  },
  "toc": {
   "base_numbering": 1,
   "nav_menu": {},
   "number_sections": true,
   "sideBar": true,
   "skip_h1_title": false,
   "title_cell": "Table of Contents",
   "title_sidebar": "Contents",
   "toc_cell": false,
   "toc_position": {},
   "toc_section_display": true,
   "toc_window_display": false
  },
  "varInspector": {
   "cols": {
    "lenName": 16,
    "lenType": 16,
    "lenVar": 40
   },
   "kernels_config": {
    "python": {
     "delete_cmd_postfix": "",
     "delete_cmd_prefix": "del ",
     "library": "var_list.py",
     "varRefreshCmd": "print(var_dic_list())"
    },
    "r": {
     "delete_cmd_postfix": ") ",
     "delete_cmd_prefix": "rm(",
     "library": "var_list.r",
     "varRefreshCmd": "cat(var_dic_list()) "
    }
   },
   "types_to_exclude": [
    "module",
    "function",
    "builtin_function_or_method",
    "instance",
    "_Feature"
   ],
   "window_display": false
  },
  "vscode": {
   "interpreter": {
    "hash": "31f2aee4e71d21fbe5cf8b01ff0e069b9275f58929596ceb00d14d90e3e16cd6"
   }
  }
 },
 "nbformat": 4,
 "nbformat_minor": 5
}
